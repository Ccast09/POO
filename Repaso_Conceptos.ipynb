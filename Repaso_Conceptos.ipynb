{
  "nbformat": 4,
  "nbformat_minor": 0,
  "metadata": {
    "colab": {
      "provenance": [],
      "authorship_tag": "ABX9TyM1/WEIH+WXb19Akt5h+Izh",
      "include_colab_link": true
    },
    "kernelspec": {
      "name": "python3",
      "display_name": "Python 3"
    },
    "language_info": {
      "name": "python"
    }
  },
  "cells": [
    {
      "cell_type": "markdown",
      "metadata": {
        "id": "view-in-github",
        "colab_type": "text"
      },
      "source": [
        "<a href=\"https://colab.research.google.com/github/Ccast09/POO/blob/main/Repaso_Conceptos.ipynb\" target=\"_parent\"><img src=\"https://colab.research.google.com/assets/colab-badge.svg\" alt=\"Open In Colab\"/></a>"
      ]
    },
    {
      "cell_type": "code",
      "execution_count": null,
      "metadata": {
        "id": "0C8LDQe7uBtY",
        "colab": {
          "base_uri": "https://localhost:8080/"
        },
        "outputId": "d1ccf635-a5f7-4f97-a176-3a4a8b6790ab"
      },
      "outputs": [
        {
          "output_type": "stream",
          "name": "stdout",
          "text": [
            "Attempt 5 .....\n",
            "Attempt 7 .......\n",
            "Attempt 9 .........\n",
            "5\n",
            "6\n",
            "7\n",
            "8\n",
            "9\n",
            "-5\n",
            "-4\n",
            "-3\n",
            "-2\n",
            "-1\n",
            "0\n",
            "0 0\n",
            "1 1\n",
            "2 2\n",
            "3 3\n",
            "4 4\n",
            "5 5\n",
            "6 6\n",
            "7 7\n",
            "8 8\n",
            "9 9\n",
            "===============\n",
            "0 h\n",
            "1 e\n",
            "2 l\n",
            "3 l\n",
            "4 o\n"
          ]
        }
      ],
      "source": [
        "# When we use the range function, we can specify the start, stop and step arguments\n",
        "for number in range(5, 10, 2):\n",
        "    print(\"Attempt\", number, number * \".\")\n",
        "# In this case, the sequence will start at 5, and it will end at 9\n",
        "# The step argument is 2, so the sequence will be 5, 7, 9\n",
        "# The output will be:\n",
        "# Attempt 5 .....\n",
        "# Attempt 7 .......\n",
        "# Attempt 9 .........\n",
        "#ps:Steps can be negative, this means that values will be decreasing.\n",
        "\n",
        "#range with two arguments is written range(m, n) and creates an immutable list of consecutive integers starting at m and ending at n - 1.\n",
        "for number in range(5, 10): #m=5, n-1= 9\n",
        "  print(number)\n",
        "#output\n",
        "#5\n",
        "#6\n",
        "#7\n",
        "#8\n",
        "#9\n",
        "\n",
        "for number in range(-5, 1):#m=-5, n-1= 0\n",
        "  print(number)\n",
        "\n",
        "#output\n",
        "#-5\n",
        "#-4\n",
        "#-3\n",
        "#-2\n",
        "#-1\n",
        "#0\n",
        "\n",
        "#Enumerate Python's enumerate method allows you to iterate over a list, tuple, or dictionary and return a tuple containing the index of\n",
        "#each element and the element itself. This is a convenient way to keep track of both the element and its position on a list.\n",
        "\n",
        "for index,number in enumerate(range(10)):\n",
        "  print(index, number)\n",
        "\n",
        "print(\"===============\")\n",
        " #In the output, we can see two different numbers, the first one is the index, and the second one is the number that corresponds to the index.\n",
        "\n",
        " #we can do it also with strings using the function enumerate\n",
        "for i, char in enumerate(\"hello\"):\n",
        "    print(i, char)\n",
        "#In the output, we can see two different outputs, the first one is the index, and the second one is the character that corresponds to the index."
      ]
    },
    {
      "cell_type": "code",
      "source": [
        "#porque esto funciona?\n",
        "\"\"\"\n",
        "En Python, el valor 0 se evalúa como False en un contexto booleano,\n",
        "y cualquier número distinto de cero se evalúa como True. Por lo tanto,\n",
        "cuando number % 2 es 1 (para números impares), la condición se evalúa como True y el bloque if se ejecuta.\n",
        "Cuando es 0 (para números pares), la condición se evalúa como False y el bloque if se salta.\n",
        "\n",
        "Esto quiere decir que  'if number % 2:' = 'if number % 2 != 0:',\n",
        "\"\"\"\n",
        "count = 0\n",
        "for number in range(1, 11):\n",
        "    if number % 2 :\n",
        "        print(number)\n",
        "        count += 1\n",
        "print(f\"We have {count} odd numbers\")"
      ],
      "metadata": {
        "id": "8RKT1aHzuF98",
        "colab": {
          "base_uri": "https://localhost:8080/"
        },
        "outputId": "7bb4b691-1a32-404b-d831-dddcea3497f4"
      },
      "execution_count": 1,
      "outputs": [
        {
          "output_type": "stream",
          "name": "stdout",
          "text": [
            "1\n",
            "3\n",
            "5\n",
            "7\n",
            "9\n",
            "We have 5 odd numbers\n"
          ]
        }
      ]
    },
    {
      "cell_type": "markdown",
      "source": [
        "# **Ejercicios**"
      ],
      "metadata": {
        "id": "95GSP2sTuhMp"
      }
    },
    {
      "cell_type": "code",
      "source": [
        "#Recibe una frase del usuario y una letra y el output debe de ser cuantas veces esta la letra en la oración\n",
        "#Oración ejemplo:Elon Musk cofundador y director general de Tesla indicó que en fecha reciente inició la construcción\n",
        "\n",
        "frase = str(input(\"dame una frase: \"))\n",
        "letra = str(input(\"dame un letra a buscar: \"))\n",
        "contador = 0\n",
        "for char in frase:\n",
        "  if char == letra:\n",
        "    contador += 1\n",
        "\n",
        "print(f\"En la frase: \\n{frase} \\nla letra: {letra} se repite {contador}\")\n"
      ],
      "metadata": {
        "id": "BCUHNBZduk96",
        "colab": {
          "base_uri": "https://localhost:8080/"
        },
        "outputId": "bb29ef1a-3676-44a1-b255-6c303be7e383"
      },
      "execution_count": 2,
      "outputs": [
        {
          "output_type": "stream",
          "name": "stdout",
          "text": [
            "dame una frase: usk cofundador y director genera\n",
            "dame un letra a buscar: a\n",
            "En la frase: \n",
            "usk cofundador y director genera \n",
            "la letra: a se repite 2\n"
          ]
        }
      ]
    },
    {
      "cell_type": "code",
      "source": [
        "#Ademas de decir cuantas veces aparece el caracter en la oración tambien menciona las posiciones donde se encuentra\n",
        "frase = str(input(\"dame una frase: \"))\n",
        "letra = str(input(\"dame un letra a buscar: \"))\n",
        "contador = 0\n",
        "for indice, char in enumerate(frase):\n",
        "  if char == letra:\n",
        "    contador += 1\n",
        "    print(f\"en la posicion {indice} se encontro la letra {letra}\")\n",
        "\n",
        "print(f\"En la frase: \\n{frase} \\nla letra: {letra} se repite {contador}\")"
      ],
      "metadata": {
        "id": "Yz1gwhZFumtc",
        "colab": {
          "base_uri": "https://localhost:8080/"
        },
        "outputId": "f014cb73-d3d4-477e-bf76-e41b995bcf78"
      },
      "execution_count": null,
      "outputs": [
        {
          "output_type": "stream",
          "name": "stdout",
          "text": [
            "dame una frase: Elon Musk cofundador y director general de Tesla indicó que en fecha reciente inició la construcción\n",
            "dame un letra a buscar: e\n",
            "en la posicion 26 se encontro la letra e\n",
            "en la posicion 33 se encontro la letra e\n",
            "en la posicion 35 se encontro la letra e\n",
            "en la posicion 41 se encontro la letra e\n",
            "en la posicion 44 se encontro la letra e\n",
            "en la posicion 58 se encontro la letra e\n",
            "en la posicion 60 se encontro la letra e\n",
            "en la posicion 64 se encontro la letra e\n",
            "en la posicion 70 se encontro la letra e\n",
            "en la posicion 73 se encontro la letra e\n",
            "en la posicion 76 se encontro la letra e\n",
            "En la frase: \n",
            "Elon Musk cofundador y director general de Tesla indicó que en fecha reciente inició la construcción \n",
            "la letra: e se repite 11\n"
          ]
        }
      ]
    },
    {
      "cell_type": "code",
      "source": [
        "#Ahora pide dos letra a encontrar dentro de la oración"
      ],
      "metadata": {
        "id": "5BJi6WMduoAt"
      },
      "execution_count": null,
      "outputs": []
    },
    {
      "cell_type": "code",
      "source": [
        "#Ahora solicita al usuario una frase y una Keyword\n",
        "#Determinar si la Keword se encuentra en la frase (Tener en cuenta limpieza de strings)\n",
        "#Contar cuantas veces sale la Keyword en la oración\n",
        "#frase: La programación en Python es divertida, emocionante y desafiante\n",
        "#El que encuentre el error le das una picafresa la siguiente clase"
      ],
      "metadata": {
        "id": "VAw8rydFuqki"
      },
      "execution_count": null,
      "outputs": []
    },
    {
      "cell_type": "code",
      "source": [
        "#de manera mas compleja\n",
        "frase = input(\"Introduce una frase: \").lower()\n",
        "palabra_clave = input(\"Introduce la palabra clave: \").lower()\n",
        "\n",
        "palabras = frase.split() # convierte un string a lista\n",
        "conteo = 0\n",
        "\n",
        "for palabra in palabras:\n",
        "    if palabra.strip(\",.!?\") == palabra_clave: #Recordar que strip nos elimina los espacios en blanco iniciales y finales. Se puede especificar qué carácter(es) eliminar; si no, se eliminarán todos los espacios en blanco.\n",
        "        conteo += 1\n",
        "\n",
        "print(\"Número de veces que aparece la palabra clave:\", conteo)"
      ],
      "metadata": {
        "id": "_s3EUf7_usVD"
      },
      "execution_count": null,
      "outputs": []
    },
    {
      "cell_type": "code",
      "source": [
        "#Calculadora\n",
        "#realizar una calculadora que muestre un menú con 5 opciones: Suma, resta, multiplicación, División  salir de la ejecución del programa"
      ],
      "metadata": {
        "id": "5f2hRfdOuuD4"
      },
      "execution_count": null,
      "outputs": []
    },
    {
      "cell_type": "code",
      "source": [
        "#Validador de fechas\n",
        "#recibe una fecha del usuario con el formato (dd/mm/yyyy)\n",
        "#verifica que el formato sea correcto en longitud y que se respeten los separadores\n",
        "#Verifica que el mes sea correcto (No ingresar meses mayores a 12 y menores a 1)\n",
        "#Verifica que los días sean correctos es decir que"
      ],
      "metadata": {
        "id": "cO91M8LF1vLm"
      },
      "execution_count": null,
      "outputs": []
    }
  ]
}