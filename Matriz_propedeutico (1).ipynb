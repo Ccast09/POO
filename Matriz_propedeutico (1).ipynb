{
  "nbformat": 4,
  "nbformat_minor": 0,
  "metadata": {
    "colab": {
      "provenance": []
    },
    "kernelspec": {
      "name": "python3",
      "display_name": "Python 3"
    },
    "language_info": {
      "name": "python"
    }
  },
  "cells": [
    {
      "cell_type": "code",
      "execution_count": 2,
      "metadata": {
        "colab": {
          "base_uri": "https://localhost:8080/"
        },
        "id": "ZGJ38eY1LItQ",
        "outputId": "0682512d-bfae-4fa8-c6b1-3c73da4c1c37"
      },
      "outputs": [
        {
          "output_type": "stream",
          "name": "stdout",
          "text": [
            "Determinante de A: -217\n"
          ]
        }
      ],
      "source": [
        "#Carlos Cabrera Castrejón\n",
        "\n",
        "# Función para verificar si dos matrices son compatibles para suma o resta\n",
        "# Comprueba si ambas matrices tienen el mismo número de filas y columnas\n",
        "# En la primer comparacion se verifica si se tiene el mismo numero de filas y la segunda se verifica que ambas tengan el mismo nuemro de columnas\n",
        "# esto se realiaza con (A[0]) que nos da el número de columnas en esa fila, si ambas comparaciones son verdaderas nos regresa un True\n",
        "def son_matrices_compatibles_para_suma_resta(A, B):\n",
        "    return len(A) == len(B) and len(A[0]) == len(B[0])\n",
        "\n",
        "# Función para verificar si dos matrices son compatibles para multiplicación\n",
        "# Comprueba si el número de columnas de la primera matriz es igual al número de filas de la segunda\n",
        "# de igual manera con la función de arriba se compara que las columnas de A sean iguales a las filas de B y si es verdadero nos regresa un True\n",
        "def son_matrices_compatibles_para_multiplicacion(A, B):\n",
        "    return len(A[0]) == len(B)\n",
        "\n",
        "# Función para sumar dos matrices\n",
        "# Primero verifica si las matrices son compatibles para la suma\n",
        "# Si no lo son, devuelve un mensaje de error\n",
        "# Si lo son, realiza la suma elemento a elemento haciendo uso de un for anidado\n",
        "# y devuelve el resultado donde i representa la iteración de las filas y j la de las columnas\n",
        "def sumar_matrices(A, B):\n",
        "    if not son_matrices_compatibles_para_suma_resta(A, B):\n",
        "        return \"Error: Las matrices deben tener las mismas dimensiones para la suma.\"\n",
        "    return [[A[i][j] + B[i][j] for j in range(len(A[0]))] for i in range(len(A))]\n",
        "\n",
        "# Función para restar dos matrices\n",
        "# Sigue el mismo procedimiento de validación y cálculo que la función de suma\n",
        "def restar_matrices(A, B):\n",
        "    if not son_matrices_compatibles_para_suma_resta(A, B):\n",
        "        return \"Error: Las matrices deben tener las mismas dimensiones para la resta.\"\n",
        "    return [[A[i][j] - B[i][j] for j in range(len(A[0]))] for i in range(len(A))]\n",
        "\n",
        "# Función para multiplicar dos matrices\n",
        "# Verifica la compatibilidad de las matrices para la multiplicación\n",
        "# primero se crea una matriz llena de 0 que tiene el num de filas de A y las columnas de B\n",
        "# El primero for itera sobre las filas de A el segundo sobre las columnas de B y el tercer for se utilia para iterar sobre la fila de A y la columna de B\n",
        "def multiplicar_matrices(A, B):\n",
        "    if not son_matrices_compatibles_para_multiplicacion(A, B):\n",
        "        return \"Error: El número de columnas de la primera matriz debe ser igual al número de filas de la segunda matriz.\"\n",
        "    result = [[0 for _ in range(len(B[0]))] for _ in range(len(A))]\n",
        "    for i in range(len(A)):\n",
        "        for j in range(len(B[0])):\n",
        "            for k in range(len(B)):\n",
        "                result[i][j] += A[i][k] * B[k][j]\n",
        "    return result\n",
        "\n",
        "# Función para realizar el producto escalar de una matriz\n",
        "# Multiplica cada elemento de la matriz por un escalar dado\n",
        "# i recorre cada fila de la matriz y j recorre la columna\n",
        "def producto_escalar(matriz, escalar):\n",
        "    return [[matriz[i][j] * escalar for j in range(len(matriz[0]))] for i in range(len(matriz))]\n",
        "\n",
        "# Función para calcular el determinante de una matriz de manera recursiva\n",
        "# Primero verifica si la matriz es cuadrada si no lo es, devuelve un mensaje de error\n",
        "# Despues si la matriz es de 1x1 regresa la matriz despues si la matriz es de 2x2 regresa el resultado de manera directa\n",
        "# En caso de que la matriz se mayor (3x3 o mayores) y no caiga en ninguno de estos casos\n",
        "# en esta situacion hacemos que el determinante sea una sumatoria con \"+=\"\n",
        "# despues se eleva -1 al indice de la columna para poder definir el signo de la multiplicación y como siempre se utiliza en la primer columna se simplifica de esta manera\n",
        "# a continuación se multiplica por su respectiva columna de la iteración pero siempre en la primer fila por eso el 0 no es variable \"matriz[0][c]\"\n",
        "# despues se hace uso de la recursividad y dentro se manda lo que seria la submatriz\n",
        "# para construir la submatriz primero excluimos a la primera fila con matriz[1:]\n",
        "# luego  con: \"fila[:c] + fila[c+1:]\"\" para cada una de estas filas se crea una nueva fila que excluye el elemento en la columna c\n",
        "# lo excluye de esta manera: fila[:c] toma los elementos de la fila antes de C\n",
        "# Y fila[c+1:] toma todos los elementos de la fila despues de C\n",
        "# Al concatenar estas dos creamos la submatriz que excluye la columna con la cual se esta trabajando\n",
        "# (recordar que C es el indice de la columna)\n",
        "def determinante(matriz):\n",
        "    if len(matriz) != len(matriz[0]):\n",
        "        return \"Error: La matriz debe ser cuadrada para calcular el determinante.\"\n",
        "    if len(matriz) == 1:\n",
        "        return matriz[0][0]\n",
        "    if len(matriz) == 2:\n",
        "        return matriz[0][0]*matriz[1][1] - matriz[0][1]*matriz[1][0]\n",
        "    det = 0\n",
        "    for c in range(len(matriz)):\n",
        "        det += ((-1)**c) * matriz[0][c] * determinante([fila[:c] + fila[c+1:] for fila in matriz[1:]])\n",
        "    return det\n",
        "\n",
        "\n",
        "\n"
      ]
    },
    {
      "cell_type": "code",
      "source": [
        "# Todas las operaciones son posibles\n",
        "try:\n",
        "    A = [[1, 2], [3, 4]]\n",
        "    B = [[5, 6], [7, 8]]\n",
        "    escalar = 3\n",
        "\n",
        "    print(\"Suma:\", sumar_matrices(A, B))\n",
        "    print(\"Resta:\", restar_matrices(A, B))\n",
        "    print(\"Multiplicación:\", multiplicar_matrices(A, B))\n",
        "    print(\"Producto Escalar de A:\", producto_escalar(A, escalar))\n",
        "    print(\"Determinante de A:\", determinante(A))\n",
        "except ValueError as e:\n",
        "    print(e)\n",
        "\n",
        "A = [[1, 2, 3], [4, 5, 6]]\n",
        "B = [[7, 8], [9, 10]]\n",
        "\n",
        "#Suma no es posible\n",
        "\n",
        "try:\n",
        "    print(\"Suma:\", sumar_matrices(A, B))\n",
        "except ValueError as e:\n",
        "    print(\"Error en suma:\", e)\n",
        "\n",
        "#multtiplicacion no es posible\n",
        "\n",
        "A = [[1, 2], [3, 4]]\n",
        "B = [[5, 6, 7], [8, 9, 10], [11, 12, 13]]\n",
        "\n",
        "try:\n",
        "    print(\"Multiplicación:\", multiplicar_matrices(A, B))\n",
        "except ValueError as e:\n",
        "    print(\"Error en multiplicación:\", e)\n",
        "\n",
        "#determinante no es posible\n",
        "A = [[1, 2, 3, 4], [4, 5, 6, 7], [7, 8, 9, 4]]\n",
        "print(\"Determinante de A:\", determinante(A))\n",
        "\n",
        "\n",
        "# todas son posibles\n",
        "A = [[1, 2, 3], [4, 5, 6], [7, 8, 9]]\n",
        "B = [[9, 8, 7], [6, 5, 4], [3, 2, 1]]\n",
        "\n",
        "print(\"Suma:\", sumar_matrices(A, B))\n",
        "print(\"Resta:\", restar_matrices(A, B))\n",
        "print(\"Multiplicación:\", multiplicar_matrices(A, B))\n",
        "print(\"Producto Escalar de A:\", producto_escalar(A, 3))\n",
        "print(\"Determinante de A:\", determinante(A))\n",
        "\n",
        "A = [[1, 2, 3, 4], [4, 5, 6, 7], [7, 8, 9, 4], [5, 6, 3, 4]]\n",
        "print(\"Determinante de A:\", determinante(A))\n"
      ],
      "metadata": {
        "colab": {
          "base_uri": "https://localhost:8080/"
        },
        "id": "J6E_Gshlb4_9",
        "outputId": "119aad63-c77f-484c-8d84-f83c9107487a"
      },
      "execution_count": 4,
      "outputs": [
        {
          "output_type": "stream",
          "name": "stdout",
          "text": [
            "Suma: [[6, 8], [10, 12]]\n",
            "Resta: [[-4, -4], [-4, -4]]\n",
            "Multiplicación: [[19, 22], [43, 50]]\n",
            "Producto Escalar de A: [[3, 6], [9, 12]]\n",
            "Determinante de A: -2\n",
            "Suma: Error: Las matrices deben tener las mismas dimensiones para la suma.\n",
            "Multiplicación: Error: El número de columnas de la primera matriz debe ser igual al número de filas de la segunda matriz.\n",
            "Determinante de A: Error: La matriz debe ser cuadrada para calcular el determinante.\n",
            "Suma: [[10, 10, 10], [10, 10, 10], [10, 10, 10]]\n",
            "Resta: [[-8, -6, -4], [-2, 0, 2], [4, 6, 8]]\n",
            "Multiplicación: [[30, 24, 18], [84, 69, 54], [138, 114, 90]]\n",
            "Producto Escalar de A: [[3, 6, 9], [12, 15, 18], [21, 24, 27]]\n",
            "Determinante de A: 0\n",
            "Determinante de A: 72\n"
          ]
        }
      ]
    }
  ]
}